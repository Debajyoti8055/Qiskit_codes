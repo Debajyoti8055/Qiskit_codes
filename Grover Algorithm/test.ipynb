{
 "cells": [
  {
   "cell_type": "markdown",
   "metadata": {},
   "source": [
    "Casear Cipher"
   ]
  },
  {
   "cell_type": "code",
   "execution_count": 99,
   "metadata": {},
   "outputs": [
    {
     "name": "stdout",
     "output_type": "stream",
     "text": [
      "The original string is : 10101\n",
      "key= 5\n",
      "encrypted text 11010\n"
     ]
    }
   ],
   "source": [
    "#Debjyoti's modifivation - V2\n",
    "\n",
    "from qiskit import QuantumCircuit, ClassicalRegister, QuantumRegister, transpile\n",
    "from qiskit.circuit.library import CDKMRippleCarryAdder \n",
    "\n",
    "from qiskit.providers.basic_provider import BasicSimulator\n",
    "backend = BasicSimulator()\n",
    "\n",
    "\n",
    "# converting plain text to binary\n",
    "# plain_text = \"a\"\n",
    "plain_text = \"10101\"\n",
    "# printing original string \n",
    "print(\"The original string is : \" + str(plain_text))\n",
    " \n",
    "ENCRYPTED_TEXT=''\n",
    "\n",
    "KEY=\"00101\" #5 in decimal\n",
    "n_k=len(KEY)\n",
    "print(\"key=\",int(KEY, 2))\n",
    "\n",
    "# Defining Quantum registers\n",
    "# for i in plain_text:\n",
    "# using join() + ord() + format()\n",
    "# res = ''.join(format(ord(plain_text), '07b')) # for i in plain_text)\n",
    "# PLAIN_TEXT=str(res)\n",
    "n_p=len(plain_text)\n",
    "adder = CDKMRippleCarryAdder(n_p, kind='full', name='Full Adder') # kind='full' indicates full adder\n",
    "operand1 = QuantumRegister(n_p, name='key')\n",
    "operand2 = QuantumRegister(n_p, name='plain_text')\n",
    "anc = QuantumRegister(2, name='a') # to store carry in and carry out\n",
    "cr = ClassicalRegister(n_p+1,name='cr')\n",
    "\n",
    "circ = QuantumCircuit(operand1, operand2, anc, cr)\n",
    "\n",
    "for i in range(len(KEY)):\n",
    "    if KEY[i]=='1':\n",
    "        circ.x(operand1[len(KEY)-1-i])\n",
    "\n",
    "for i in range(len(plain_text)):\n",
    "    if plain_text[i]=='1':\n",
    "        circ.x(operand2[len(plain_text)-1-i])\n",
    "\n",
    "# Note 1: CDKMRippleCarryAdder expects the qubits to have the order: carry in - 1st operand - 2nd operand - carry out. (changes will be on 2nd operator)\n",
    "# Note 2: Python uses '+' operator to combine lists:\n",
    "\n",
    "circ.append(adder, [anc[0]] + operand1[:] + operand2[:] + [anc[1]])\n",
    "circ.measure(operand2[:] + [anc[1]], cr) #changes will be on operand 2 in other word (here) plain_text is changed \n",
    "\n",
    "# to change the key : take care of ordering the 1st operand and 2nd operand\n",
    "# circ.append(adder, [anc[0]] + operand2[:] + operand1[:] + [anc[1]])\n",
    "# circ.measure(operand1[:] + [anc[1]], cr) \n",
    "\n",
    "# print(circ)\n",
    "# circ.draw(\"mpl\")\n",
    "\n",
    "tr_circ = transpile(circ, basis_gates = ['u3', 'cx'], optimization_level = 3)\n",
    "result = backend.run(tr_circ).result()\n",
    "counts = result.get_counts()\n",
    "\n",
    "# print(\"encrypted text in binary:\",list(counts.keys())[0])\n",
    "encrypted_text = list(counts.keys())[0][1:]\n",
    "print(\"encrypted text\",encrypted_text)\n",
    "# chunks = [encrypted_text[i:i+8] for i in range(0, len(encrypted_text), 8)]\n",
    "\n",
    "# # Convert each chunk to integer and then to character\n",
    "# resulting_char = ''.join([chr(int(chunk, 2)) for chunk in chunks])\n",
    "\n",
    "# # print(\"encrypted char\",resulting_char)\n",
    "# ENCRYPTED_TEXT+=resulting_char\n",
    "    \n",
    "# print(\"ENCRYPTED_TEXT :\",ENCRYPTED_TEXT)\n"
   ]
  },
  {
   "cell_type": "markdown",
   "metadata": {},
   "source": [
    "Grover search"
   ]
  },
  {
   "cell_type": "code",
   "execution_count": 100,
   "metadata": {},
   "outputs": [
    {
     "data": {
      "text/plain": [
       "'10101'"
      ]
     },
     "execution_count": 100,
     "metadata": {},
     "output_type": "execute_result"
    }
   ],
   "source": [
    "plain_text"
   ]
  },
  {
   "cell_type": "code",
   "execution_count": 101,
   "metadata": {},
   "outputs": [
    {
     "data": {
      "text/plain": [
       "'11010'"
      ]
     },
     "execution_count": 101,
     "metadata": {},
     "output_type": "execute_result"
    }
   ],
   "source": [
    "cipher_text=encrypted_text\n",
    "cipher_text"
   ]
  },
  {
   "cell_type": "code",
   "execution_count": 102,
   "metadata": {},
   "outputs": [],
   "source": [
    "import numpy as np\n",
    "\n",
    "# Importing standard Qiskit libraries\n",
    "from qiskit import QuantumCircuit, transpile, QuantumRegister, ClassicalRegister#, BasicAer, execute, IBMQ\n",
    "from qiskit.compiler import assemble\n",
    "# from qiskit.tools.jupyter import *\n",
    "from qiskit.visualization import *\n",
    "# from ibm_quantum_widgets import CircuitComposer\n",
    "# from qiskit.providers.aer import QasmSimulator, AerSimulator\n",
    "\n",
    "# Loading your IBM Quantum account(s)\n",
    "# provider = IBMQ.load_account()"
   ]
  },
  {
   "cell_type": "code",
   "execution_count": 103,
   "metadata": {},
   "outputs": [],
   "source": [
    "def load_input(qc, r_key, input_binary, n):\n",
    "    for i in range(n):\n",
    "        if (input_binary[i] == \"1\"):\n",
    "            qc.x(r_key[i])"
   ]
  },
  {
   "cell_type": "code",
   "execution_count": 104,
   "metadata": {},
   "outputs": [],
   "source": [
    "def load_key(qc, r_key, n):\n",
    "    for i in range(n):\n",
    "        qc.h(r_key[i])"
   ]
  },
  {
   "cell_type": "code",
   "execution_count": 105,
   "metadata": {},
   "outputs": [],
   "source": [
    "# def cipher(qc, r_key, r_text, n):\n",
    "def cipher(qc, adder, anc, operand1, operand2, r_cipher, n):\n",
    "    qc.append(adder, [anc[0]] + operand1[:] + operand2[:] + [anc[1]])\n",
    "    # qc.measure(operand2[:] + [anc[1]], cr)\n",
    "    # tr_circ = transpile(qc, basis_gates = ['u3', 'cx'], optimization_level = 3)\n",
    "    # result = backend.run(tr_circ).result()\n",
    "    # counts = result.get_counts()\n",
    "    # e_text = list(counts.keys())[0][1:]\n",
    "    # for i in e_text:\n",
    "    for i in range(n):\n",
    "        if cipher_text[i] == '1':\n",
    "            qc.x(r_cipher[i])\n",
    "        "
   ]
  },
  {
   "cell_type": "code",
   "execution_count": 106,
   "metadata": {},
   "outputs": [],
   "source": [
    "def my_oracle(qc, r_key, r_ancilla, r_cipher, r_text, r_output, n):\n",
    "    #Compute cipher text possibilities by XORing\n",
    "    cipher(qc,adder, r_ancilla, r_key, r_text,r_cipher,n)\n",
    "    \n",
    "    #Checking whether the generated cipher text is equal to the given cipher text\n",
    "    for i in range(n):\n",
    "        qc.cx(r_cipher[i], r_ancilla[i])\n",
    "        qc.cx(r_text[i], r_ancilla[i])\n",
    "        qc.x(r_ancilla[i])\n",
    "        \n",
    "    #Set 'output' bit if the cipher text is matched\n",
    "    qc.mcx(r_ancilla, r_output)\n",
    "    \n",
    "    qc.barrier()\n",
    "    \n",
    "    #Uncompute cipher to reset ancilla & plain text qubits\n",
    "    #Reset ancilla qubit\n",
    "    for i in range(n):\n",
    "        qc.x(r_ancilla[i])\n",
    "        qc.cx(r_cipher[i], r_ancilla[i])\n",
    "        qc.cx(r_text[i], r_ancilla[i])\n",
    "    qc.barrier()\n",
    "    #Reset plain text by inverse cipher process\n",
    "    cipher(qc,adder, r_ancilla, r_key, r_text,r_cipher,n)\n",
    "    \n",
    "    qc.barrier()\n",
    "        "
   ]
  },
  {
   "cell_type": "code",
   "execution_count": 107,
   "metadata": {},
   "outputs": [],
   "source": [
    "#The diffuser function is available in Qiskit\n",
    "def diffuser(nqubits):\n",
    "    qc = QuantumCircuit(nqubits)\n",
    "    #Apply transformation |s> -> |00...0> (H gates)\n",
    "    for qubit in range(nqubits):\n",
    "        qc.h(qubit)\n",
    "    #Apply transformation |00...0> -> |11...1> (X gates)\n",
    "    for qubit in range(nqubits):\n",
    "        qc.x(qubit)    \n",
    "    #Do multi-controlled Z gate\n",
    "    qc.h(nqubits - 1)\n",
    "    qc.mcx(list(range(nqubits - 1)), nqubits - 1) #multi-controlled Toffoli\n",
    "    qc.h(nqubits - 1)\n",
    "    #Apply transformation |11...1> -> |00...0> (X gates)\n",
    "    for qubit in range(nqubits):\n",
    "        qc.x(qubit)\n",
    "    #Apply transformation |00...0> -> |s> (H gates)\n",
    "    for qubit in range(nqubits):\n",
    "        qc.h(qubit)\n",
    "    #We will return the diffuser as a gate\n",
    "    U_s = qc.to_gate()\n",
    "    U_s.name = \"U$_s$\"\n",
    "    return U_s\n",
    "    "
   ]
  },
  {
   "cell_type": "code",
   "execution_count": 108,
   "metadata": {},
   "outputs": [
    {
     "data": {
      "text/plain": [
       "<qiskit.circuit.instructionset.InstructionSet at 0x13b686d5cc0>"
      ]
     },
     "execution_count": 108,
     "metadata": {},
     "output_type": "execute_result"
    }
   ],
   "source": [
    "n = 5\n",
    "r_text = QuantumRegister(n, 't')\n",
    "r_key = QuantumRegister(n, 'k')\n",
    "r_output = QuantumRegister(1, name = 'o')\n",
    "r_cipher = QuantumRegister(n, 'c')\n",
    "r_ancilla = QuantumRegister(n+1, 'a')\n",
    "# r_ancilla = QuantumRegister(2, 'a')\n",
    "\n",
    "r_class = ClassicalRegister(n)\n",
    "\n",
    "qc = QuantumCircuit(r_text, r_key, r_cipher, r_ancilla, r_output, r_class)\n",
    "\n",
    "adder = CDKMRippleCarryAdder(n, kind='full', name='Full Adder')\n",
    "\n",
    "#loading plain text\n",
    "# plain_text = '0101'\n",
    "load_input(qc, r_text, plain_text, n)\n",
    "\n",
    "#Preparing key in a superposition state\n",
    "load_key(qc, r_key, n)\n",
    "\n",
    "#loading known cipher text\n",
    "# cipher_text = '1001'\n",
    "load_input(qc, r_cipher, cipher_text, n)\n",
    "\n",
    "#Preparing output qubit\n",
    "qc.x(r_output)\n",
    "qc.h(r_output)\n",
    "qc.barrier()\n",
    "\n",
    "\n",
    "from math import pi, sqrt\n",
    "num_iterations = int(pi/4 * 2**(n/2.0))\n",
    "\n",
    "# Perform the remaining iterations\n",
    "for i in range(num_iterations):\n",
    "    my_oracle(qc, r_key, r_ancilla, r_cipher, r_text, r_output, n)\n",
    "    qc.barrier()\n",
    "    qc.append(diffuser(n), r_key)\n",
    "    qc.barrier()\n",
    "\n",
    "qc.measure(r_key, r_class)\n",
    "#qc.draw()\n"
   ]
  },
  {
   "cell_type": "code",
   "execution_count": 111,
   "metadata": {},
   "outputs": [
    {
     "name": "stdout",
     "output_type": "stream",
     "text": [
      "Key is : 00000\n"
     ]
    }
   ],
   "source": [
    "#sim = AerSimulator(method = 'matrix_product_state')\n",
    "# sim = Aer.get_backend('qasm_simulator')\n",
    "\n",
    "from qiskit.providers.basic_provider import BasicSimulator\n",
    "sim = BasicSimulator()\n",
    "\n",
    "shots = 1024\n",
    "#Run and get the counts, using the matrix_product_state method\n",
    "tcirc = transpile(qc, sim)\n",
    "result = sim.run(tcirc, shots=1024).result()\n",
    "\n",
    "counts = result.get_counts() #counts = result.get_counts(0)\n",
    "b, c = max(counts.items(), key=lambda x: x[1])\n",
    "print(\"Key is :\", b[::-1])"
   ]
  },
  {
   "cell_type": "code",
   "execution_count": 110,
   "metadata": {},
   "outputs": [
    {
     "name": "stdout",
     "output_type": "stream",
     "text": [
      "{'10111': 45, '01001': 35, '11110': 40, '11101': 33, '10110': 27, '01010': 33, '00101': 33, '11001': 26, '10010': 39, '10101': 26, '00001': 36, '11010': 27, '00010': 43, '11111': 35, '01011': 29, '01110': 22, '10001': 28, '01111': 34, '00011': 25, '10000': 36, '01101': 31, '00111': 22, '01100': 39, '11100': 31, '01000': 26, '00100': 32, '00000': 38, '11000': 33, '11011': 33, '10011': 32, '10100': 15, '00110': 40}\n",
      "probability = 0.0439453125\n"
     ]
    }
   ],
   "source": [
    "print (result.get_counts())\n",
    "print(\"probability =\", c/shots)"
   ]
  },
  {
   "cell_type": "code",
   "execution_count": 2,
   "metadata": {},
   "outputs": [
    {
     "ename": "CircuitError",
     "evalue": "'duplicate qubit arguments'",
     "output_type": "error",
     "traceback": [
      "\u001b[1;31m---------------------------------------------------------------------------\u001b[0m",
      "\u001b[1;31mCircuitError\u001b[0m                              Traceback (most recent call last)",
      "Cell \u001b[1;32mIn[2], line 36\u001b[0m\n\u001b[0;32m     34\u001b[0m         full_adder(qc, p[i], q[i], \u001b[38;5;241m0\u001b[39m, carries[i], carries[i\u001b[38;5;241m+\u001b[39m\u001b[38;5;241m1\u001b[39m])\n\u001b[0;32m     35\u001b[0m     \u001b[38;5;28;01melse\u001b[39;00m:\n\u001b[1;32m---> 36\u001b[0m         \u001b[43mfull_adder\u001b[49m\u001b[43m(\u001b[49m\u001b[43mqc\u001b[49m\u001b[43m,\u001b[49m\u001b[43m \u001b[49m\u001b[43mp\u001b[49m\u001b[43m[\u001b[49m\u001b[43mi\u001b[49m\u001b[43m]\u001b[49m\u001b[43m,\u001b[49m\u001b[43m \u001b[49m\u001b[43mq\u001b[49m\u001b[43m[\u001b[49m\u001b[43mi\u001b[49m\u001b[43m]\u001b[49m\u001b[43m,\u001b[49m\u001b[43m \u001b[49m\u001b[43mcarries\u001b[49m\u001b[43m[\u001b[49m\u001b[43mi\u001b[49m\u001b[43m]\u001b[49m\u001b[43m,\u001b[49m\u001b[43m \u001b[49m\u001b[43mcarries\u001b[49m\u001b[43m[\u001b[49m\u001b[43mi\u001b[49m\u001b[43m]\u001b[49m\u001b[43m,\u001b[49m\u001b[43m \u001b[49m\u001b[43mcarries\u001b[49m\u001b[43m[\u001b[49m\u001b[43mi\u001b[49m\u001b[38;5;241;43m+\u001b[39;49m\u001b[38;5;241;43m1\u001b[39;49m\u001b[43m]\u001b[49m\u001b[43m)\u001b[49m\n\u001b[0;32m     38\u001b[0m \u001b[38;5;66;03m# The last carry bit should be measured as well\u001b[39;00m\n\u001b[0;32m     39\u001b[0m qc\u001b[38;5;241m.\u001b[39mmeasure(carries[n], result[n])\n",
      "Cell \u001b[1;32mIn[2], line 28\u001b[0m, in \u001b[0;36mfull_adder\u001b[1;34m(qc, a, b, c_in, sum_out, c_out)\u001b[0m\n\u001b[0;32m     26\u001b[0m qc\u001b[38;5;241m.\u001b[39mccx(a, b, c_out)\n\u001b[0;32m     27\u001b[0m qc\u001b[38;5;241m.\u001b[39mcx(sum_out, c_out)\n\u001b[1;32m---> 28\u001b[0m \u001b[43mqc\u001b[49m\u001b[38;5;241;43m.\u001b[39;49m\u001b[43mcx\u001b[49m\u001b[43m(\u001b[49m\u001b[43mc_in\u001b[49m\u001b[43m,\u001b[49m\u001b[43m \u001b[49m\u001b[43msum_out\u001b[49m\u001b[43m)\u001b[49m\n\u001b[0;32m     29\u001b[0m qc\u001b[38;5;241m.\u001b[39mccx(c_in, sum_out, c_out)\n",
      "File \u001b[1;32mc:\\Users\\User\\Desktop\\CODE\\Qiskit\\.env\\Lib\\site-packages\\qiskit\\circuit\\quantumcircuit.py:3693\u001b[0m, in \u001b[0;36mQuantumCircuit.cx\u001b[1;34m(self, control_qubit, target_qubit, label, ctrl_state)\u001b[0m\n\u001b[0;32m   3675\u001b[0m \u001b[38;5;250m\u001b[39m\u001b[38;5;124mr\u001b[39m\u001b[38;5;124;03m\"\"\"Apply :class:`~qiskit.circuit.library.CXGate`.\u001b[39;00m\n\u001b[0;32m   3676\u001b[0m \n\u001b[0;32m   3677\u001b[0m \u001b[38;5;124;03mFor the full matrix form of this gate, see the underlying gate documentation.\u001b[39;00m\n\u001b[1;32m   (...)\u001b[0m\n\u001b[0;32m   3688\u001b[0m \u001b[38;5;124;03m    A handle to the instructions created.\u001b[39;00m\n\u001b[0;32m   3689\u001b[0m \u001b[38;5;124;03m\"\"\"\u001b[39;00m\n\u001b[0;32m   3691\u001b[0m \u001b[38;5;28;01mfrom\u001b[39;00m \u001b[38;5;21;01m.\u001b[39;00m\u001b[38;5;21;01mlibrary\u001b[39;00m\u001b[38;5;21;01m.\u001b[39;00m\u001b[38;5;21;01mstandard_gates\u001b[39;00m\u001b[38;5;21;01m.\u001b[39;00m\u001b[38;5;21;01mx\u001b[39;00m \u001b[38;5;28;01mimport\u001b[39;00m CXGate\n\u001b[1;32m-> 3693\u001b[0m \u001b[38;5;28;01mreturn\u001b[39;00m \u001b[38;5;28;43mself\u001b[39;49m\u001b[38;5;241;43m.\u001b[39;49m\u001b[43mappend\u001b[49m\u001b[43m(\u001b[49m\n\u001b[0;32m   3694\u001b[0m \u001b[43m    \u001b[49m\u001b[43mCXGate\u001b[49m\u001b[43m(\u001b[49m\u001b[43mlabel\u001b[49m\u001b[38;5;241;43m=\u001b[39;49m\u001b[43mlabel\u001b[49m\u001b[43m,\u001b[49m\u001b[43m \u001b[49m\u001b[43mctrl_state\u001b[49m\u001b[38;5;241;43m=\u001b[39;49m\u001b[43mctrl_state\u001b[49m\u001b[43m)\u001b[49m\u001b[43m,\u001b[49m\u001b[43m \u001b[49m\u001b[43m[\u001b[49m\u001b[43mcontrol_qubit\u001b[49m\u001b[43m,\u001b[49m\u001b[43m \u001b[49m\u001b[43mtarget_qubit\u001b[49m\u001b[43m]\u001b[49m\u001b[43m,\u001b[49m\u001b[43m \u001b[49m\u001b[43m[\u001b[49m\u001b[43m]\u001b[49m\n\u001b[0;32m   3695\u001b[0m \u001b[43m\u001b[49m\u001b[43m)\u001b[49m\n",
      "File \u001b[1;32mc:\\Users\\User\\Desktop\\CODE\\Qiskit\\.env\\Lib\\site-packages\\qiskit\\circuit\\quantumcircuit.py:1281\u001b[0m, in \u001b[0;36mQuantumCircuit.append\u001b[1;34m(self, instruction, qargs, cargs)\u001b[0m\n\u001b[0;32m   1275\u001b[0m broadcast_iter \u001b[38;5;241m=\u001b[39m (\n\u001b[0;32m   1276\u001b[0m     operation\u001b[38;5;241m.\u001b[39mbroadcast_arguments(expanded_qargs, expanded_cargs)\n\u001b[0;32m   1277\u001b[0m     \u001b[38;5;28;01mif\u001b[39;00m \u001b[38;5;28misinstance\u001b[39m(operation, Instruction)\n\u001b[0;32m   1278\u001b[0m     \u001b[38;5;28;01melse\u001b[39;00m Instruction\u001b[38;5;241m.\u001b[39mbroadcast_arguments(operation, expanded_qargs, expanded_cargs)\n\u001b[0;32m   1279\u001b[0m )\n\u001b[0;32m   1280\u001b[0m \u001b[38;5;28;01mfor\u001b[39;00m qarg, carg \u001b[38;5;129;01min\u001b[39;00m broadcast_iter:\n\u001b[1;32m-> 1281\u001b[0m     \u001b[38;5;28;43mself\u001b[39;49m\u001b[38;5;241;43m.\u001b[39;49m\u001b[43m_check_dups\u001b[49m\u001b[43m(\u001b[49m\u001b[43mqarg\u001b[49m\u001b[43m)\u001b[49m\n\u001b[0;32m   1282\u001b[0m     instruction \u001b[38;5;241m=\u001b[39m CircuitInstruction(operation, qarg, carg)\n\u001b[0;32m   1283\u001b[0m     circuit_scope\u001b[38;5;241m.\u001b[39mappend(instruction)\n",
      "File \u001b[1;32mc:\\Users\\User\\Desktop\\CODE\\Qiskit\\.env\\Lib\\site-packages\\qiskit\\circuit\\quantumcircuit.py:1574\u001b[0m, in \u001b[0;36mQuantumCircuit._check_dups\u001b[1;34m(self, qubits)\u001b[0m\n\u001b[0;32m   1572\u001b[0m squbits \u001b[38;5;241m=\u001b[39m \u001b[38;5;28mset\u001b[39m(qubits)\n\u001b[0;32m   1573\u001b[0m \u001b[38;5;28;01mif\u001b[39;00m \u001b[38;5;28mlen\u001b[39m(squbits) \u001b[38;5;241m!=\u001b[39m \u001b[38;5;28mlen\u001b[39m(qubits):\n\u001b[1;32m-> 1574\u001b[0m     \u001b[38;5;28;01mraise\u001b[39;00m CircuitError(\u001b[38;5;124m\"\u001b[39m\u001b[38;5;124mduplicate qubit arguments\u001b[39m\u001b[38;5;124m\"\u001b[39m)\n",
      "\u001b[1;31mCircuitError\u001b[0m: 'duplicate qubit arguments'"
     ]
    }
   ],
   "source": [
    "from qiskit import QuantumCircuit, QuantumRegister, ClassicalRegister#, Aer, execute\n",
    "from qiskit.providers.basic_provider import BasicSimulator\n",
    "sim = BasicSimulator()\n",
    "# Initialize quantum and classical registers\n",
    "p_bits = '0101'\n",
    "q_bits = '1100'\n",
    "n = len(p_bits)\n",
    "\n",
    "p = QuantumRegister(n, 'p')\n",
    "q = QuantumRegister(n, 'q')\n",
    "carries = QuantumRegister(n, 'carry')\n",
    "result = ClassicalRegister(n+1, 'result')  # n+1 to account for overflow carry\n",
    "qc = QuantumCircuit(p, q, carries, result)\n",
    "\n",
    "# Initialize the quantum registers with the binary numbers\n",
    "for i in range(n):\n",
    "    if p_bits[n-1-i] == '1':\n",
    "        qc.x(p[i])  # X gate to flip qubit to 1 if the bit is 1\n",
    "    if q_bits[n-1-i] == '1':\n",
    "        qc.x(q[i])\n",
    "\n",
    "# Function to perform the full adder operation using quantum gates\n",
    "def full_adder(qc, a, b, c_in, sum_out, c_out):\n",
    "    qc.cx(a, sum_out)\n",
    "    qc.cx(b, sum_out)\n",
    "    qc.ccx(a, b, c_out)\n",
    "    qc.cx(sum_out, c_out)\n",
    "    qc.cx(c_in, sum_out)\n",
    "    qc.ccx(c_in, sum_out, c_out)\n",
    "\n",
    "# Apply the full adder for each bit\n",
    "for i in range(n):\n",
    "    if i == 0:\n",
    "        full_adder(qc, p[i], q[i], 0, carries[i], carries[i+1])\n",
    "    else:\n",
    "        full_adder(qc, p[i], q[i], carries[i], carries[i], carries[i+1])\n",
    "\n",
    "# The last carry bit should be measured as well\n",
    "qc.measure(carries[n], result[n])\n",
    "\n",
    "# Measure the sum bits\n",
    "for i in range(n):\n",
    "    qc.measure(carries[i], result[i])\n",
    "\n",
    "# Execute the circuit\n",
    "tcirc = transpile(qc, sim)\n",
    "result = sim.run(tcirc, shots=1024).result()\n",
    "counts = result.get_counts()\n",
    "\n",
    "# backend = Aer.get_backend('qasm_simulator')\n",
    "# job = execute(qc, backend, shots=1)\n",
    "# result_counts = job.result().get_counts()\n",
    "\n",
    "# Print the result\n",
    "print(\"Result:\", counts)\n"
   ]
  }
 ],
 "metadata": {
  "kernelspec": {
   "display_name": ".env",
   "language": "python",
   "name": "python3"
  },
  "language_info": {
   "codemirror_mode": {
    "name": "ipython",
    "version": 3
   },
   "file_extension": ".py",
   "mimetype": "text/x-python",
   "name": "python",
   "nbconvert_exporter": "python",
   "pygments_lexer": "ipython3",
   "version": "3.11.3"
  }
 },
 "nbformat": 4,
 "nbformat_minor": 2
}

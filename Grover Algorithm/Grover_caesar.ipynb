{
 "cells": [
  {
   "cell_type": "code",
   "execution_count": null,
   "metadata": {},
   "outputs": [],
   "source": [
    "import numpy as np\n",
    "\n",
    "# Importing standard Qiskit libraries\n",
    "from qiskit import QuantumCircuit, transpile, IBMQ, QuantumRegister, ClassicalRegister, execute, BasicAer\n",
    "from qiskit.compiler import assemble\n",
    "from qiskit.tools.jupyter import *\n",
    "from qiskit.visualization import *\n",
    "from ibm_quantum_widgets import CircuitComposer\n",
    "from qiskit.providers.aer import QasmSimulator, AerSimulator\n",
    "import numpy as np\n",
    "from numpy import pi\n",
    "\n",
    "# Loading your IBM Quantum account(s)\n",
    "provider = IBMQ.load_account()"
   ]
  },
  {
   "cell_type": "code",
   "execution_count": null,
   "metadata": {},
   "outputs": [],
   "source": [
    "# Input\n",
    "def load_input(circ,n,PLAIN_TEXT,operand2):\n",
    "    for i in range(n):\n",
    "        if PLAIN_TEXT[i]=='1':\n",
    "            circ.x(operand2[len(PLAIN_TEXT)-1-i])"
   ]
  },
  {
   "cell_type": "code",
   "execution_count": null,
   "metadata": {},
   "outputs": [],
   "source": [
    "# key\n",
    "def load_key(circ,n,operand1):\n",
    "    for i in range(n):\n",
    "        circ.h(operand1[n-1-i])"
   ]
  },
  {
   "cell_type": "code",
   "execution_count": null,
   "metadata": {},
   "outputs": [],
   "source": [
    "# cipher\n",
    "def cipher(circ,adder,anc,operand1,operand2,cr):\n",
    "    circ.append(adder, [anc[0]] + operand1[:] + operand2[:] + [anc[1]])\n",
    "    circ.measure(operand2[:] + [anc[1]], cr) #changes will be on operand 2 in other word (here) plain_text is changed "
   ]
  },
  {
   "cell_type": "code",
   "execution_count": null,
   "metadata": {},
   "outputs": [],
   "source": [
    "# def my_oracle(qc, r_key, r_ancilla, r_cipher, r_text, r_output, n):\n",
    "    #Compute cipher text possibilities by XORing\n",
    "    \n",
    "def my_oracle(circ,adder,operand1,operand2,anc,cr,n):    \n",
    "    # cipher(qc, r_key, r_text, n)\n",
    "    cipher(circ,adder,anc,operand1,operand2,cr)\n",
    "    \n",
    "    #Checking whether the generated cipher text is equal to the given cipher text\n",
    "    for i in range(n):\n",
    "        circ.cx(r_cipher[i], r_ancilla[i])\n",
    "        circ.cx(r_text[i], r_ancilla[i])\n",
    "        circ.x(r_ancilla[i])\n",
    "        \n",
    "    #Set 'output' bit if the cipher text is matched\n",
    "    qc.mcx(r_ancilla, r_output)\n",
    "    \n",
    "    qc.barrier()\n",
    "    \n",
    "    #Uncompute cipher to reset ancilla & plain text qubits\n",
    "    #Reset ancilla qubit\n",
    "    for i in range(n):\n",
    "        qc.x(r_ancilla[i])\n",
    "        qc.cx(r_cipher[i], r_ancilla[i])\n",
    "        qc.cx(r_text[i], r_ancilla[i])\n",
    "    qc.barrier()\n",
    "    #Reset plain text by inverse cipher process\n",
    "    cipher(qc, r_key, r_text, n)\n",
    "    \n",
    "    qc.barrier()"
   ]
  },
  {
   "cell_type": "code",
   "execution_count": null,
   "metadata": {},
   "outputs": [],
   "source": [
    "#The diffuser function is available in Qiskit\n",
    "def diffuser(nqubits):\n",
    "    qc = QuantumCircuit(nqubits)\n",
    "    #Apply transformation |s> -> |00...0> (H gates)\n",
    "    for qubit in range(nqubits):\n",
    "        qc.h(qubit)\n",
    "    #Apply transformation |00...0> -> |11...1> (X gates)\n",
    "    for qubit in range(nqubits):\n",
    "        qc.x(qubit)    \n",
    "    #Do multi-controlled Z gate\n",
    "    qc.h(nqubits - 1)\n",
    "    qc.mct(list(range(nqubits - 1)), nqubits - 1) #multi-controlled Toffoli\n",
    "    qc.h(nqubits - 1)\n",
    "    #Apply transformation |11...1> -> |00...0> (X gates)\n",
    "    for qubit in range(nqubits):\n",
    "        qc.x(qubit)\n",
    "    #Apply transformation |00...0> -> |s> (H gates)\n",
    "    for qubit in range(nqubits):\n",
    "        qc.h(qubit)\n",
    "    #We will return the diffuser as a gate\n",
    "    U_s = qc.to_gate()\n",
    "    U_s.name = \"U$_s$\"\n",
    "    return U_s\n",
    "    "
   ]
  },
  {
   "cell_type": "code",
   "execution_count": null,
   "metadata": {},
   "outputs": [],
   "source": [
    "# converting plain text to binary\n",
    "plain_text = \"a\"\n",
    "# printing original string \n",
    "print(\"The original string is : \" + str(plain_text))\n",
    " \n",
    "# ENCRYPTED_TEXT=''\n",
    "\n",
    "# KEY=\"101\" #5 in decimal\n",
    "# n_k=len(KEY)\n",
    "# print(\"key=\",int(KEY, 2))"
   ]
  },
  {
   "cell_type": "code",
   "execution_count": null,
   "metadata": {},
   "outputs": [],
   "source": [
    "from qiskit.circuit.library import CDKMRippleCarryAdder \n",
    "res = ''.join(format(ord(plain_text), '08b')) # converting to binary\n",
    "PLAIN_TEXT=str(res) \n",
    "# print(PLAIN_TEXT)\n",
    "n_p=len(PLAIN_TEXT)\n",
    "\n",
    "adder = CDKMRippleCarryAdder(n_p, kind='full', name='Full Adder') # kind='full' indicates full adder\n",
    "operand1 = QuantumRegister(n_p, name='key')\n",
    "operand2 = QuantumRegister(n_p, name='plain_text')\n",
    "cipher_text= QuantumRegister(n_p, name='cipher_text')\n",
    "anc = QuantumRegister(2, name='a') # to store carry in and carry out\n",
    "cr = ClassicalRegister(n_p+1,name='cr')\n",
    "\n",
    "circ = QuantumCircuit(operand1, operand2, cipher_text, anc, cr)"
   ]
  },
  {
   "cell_type": "code",
   "execution_count": null,
   "metadata": {},
   "outputs": [],
   "source": [
    "#loading plain text\n",
    "plain_text = '0101'\n",
    "load_input(circ,n_p,PLAIN_TEXT,operand2)"
   ]
  },
  {
   "cell_type": "code",
   "execution_count": null,
   "metadata": {},
   "outputs": [],
   "source": [
    "#Preparing key in a superposition state\n",
    "load_key(circ,n_p,operand1)"
   ]
  },
  {
   "cell_type": "code",
   "execution_count": null,
   "metadata": {},
   "outputs": [],
   "source": [
    "#loading known cipher text\n",
    "cipher_text = '1001'\n",
    "load_input(qc, r_cipher, cipher_text, n)"
   ]
  },
  {
   "cell_type": "code",
   "execution_count": null,
   "metadata": {},
   "outputs": [],
   "source": [
    "n = 4\n",
    "r_text = QuantumRegister(n, 't')\n",
    "r_key = QuantumRegister(n, 'k')\n",
    "r_output = QuantumRegister(1, name = 'o')\n",
    "r_cipher = QuantumRegister(n, 'c')\n",
    "r_ancilla = QuantumRegister(n, 'a')\n",
    "\n",
    "r_class = ClassicalRegister(n)\n",
    "\n",
    "qc = QuantumCircuit(r_text, r_key, r_cipher, r_ancilla, r_output, r_class)\n",
    "#loading plain text\n",
    "plain_text = '0101'\n",
    "load_input(qc, r_text, plain_text, n)\n",
    "\n",
    "#Preparing key in a superposition state\n",
    "load_key(qc, r_key, n)\n",
    "\n",
    "#loading known cipher text\n",
    "cipher_text = '1001'\n",
    "load_input(qc, r_cipher, cipher_text, n)\n",
    "\n",
    "#Preparing output qubit\n",
    "qc.x(r_output)\n",
    "qc.h(r_output)\n",
    "qc.barrier()\n",
    "\n",
    "#First Iteration\n",
    "my_oracle(qc, r_key, r_ancilla, r_cipher, r_text, r_output, n)\n",
    "qc.barrier()\n",
    "qc.append(diffuser(n), r_key)\n",
    "qc.barrier()\n",
    "\n",
    "#Second Iteration\n",
    "my_oracle(qc, r_key, r_ancilla, r_cipher, r_text, r_output, n)\n",
    "qc.barrier()\n",
    "qc.append(diffuser(n), r_key)\n",
    "qc.barrier()\n",
    "\n",
    "qc.measure(r_key, r_class)\n",
    "qc.draw()\n"
   ]
  }
 ],
 "metadata": {
  "kernelspec": {
   "display_name": "Python 3",
   "language": "python",
   "name": "python3"
  },
  "language_info": {
   "codemirror_mode": {
    "name": "ipython",
    "version": 3
   },
   "file_extension": ".py",
   "mimetype": "text/x-python",
   "name": "python",
   "nbconvert_exporter": "python",
   "pygments_lexer": "ipython3",
   "version": "3.11.3"
  }
 },
 "nbformat": 4,
 "nbformat_minor": 2
}

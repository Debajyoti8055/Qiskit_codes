{
 "cells": [
  {
   "cell_type": "code",
   "execution_count": 12,
   "metadata": {},
   "outputs": [
    {
     "name": "stdout",
     "output_type": "stream",
     "text": [
      "key= 5\n",
      "11000\n",
      "11101\n"
     ]
    }
   ],
   "source": [
    "#Debjyoti's modifivation - V2\n",
    "\n",
    "from qiskit import QuantumCircuit, ClassicalRegister, QuantumRegister, transpile\n",
    "from qiskit.circuit.library import CDKMRippleCarryAdder \n",
    "\n",
    "from qiskit.providers.basic_provider import BasicSimulator\n",
    "backend = BasicSimulator()\n",
    "\n",
    "\n",
    "\n",
    "# plain_text = \"a\"\n",
    "# printing original string \n",
    "# print(\"The original string is : \" + str(plain_text))\n",
    " \n",
    "ENCRYPTED_TEXT=''\n",
    "\n",
    "KEY=\"101\" #5 in decimal\n",
    "n_k=len(KEY)\n",
    "print(\"key=\",int(KEY, 2))\n",
    "\n",
    "# Defining Quantum registers\n",
    "# for i in plain_text:\n",
    "# using join() + ord() + format()\n",
    "\n",
    "\n",
    "# res = ''.join(format(ord(plain_text), '07b')) # converting plain text to binary\n",
    "# PLAIN_TEXT=str(res)\n",
    "\n",
    "PLAIN_TEXT='11000'\n",
    "print(PLAIN_TEXT)\n",
    "\n",
    "n_p=len(PLAIN_TEXT)\n",
    "\n",
    "adder = CDKMRippleCarryAdder(n_p, kind='full', name='Full Adder') # kind='full' indicates full adder\n",
    "operand1 = QuantumRegister(n_p, name='key')\n",
    "operand2 = QuantumRegister(n_p, name='plain_text')\n",
    "anc = QuantumRegister(2, name='a') # to store carry in and carry out\n",
    "cr = ClassicalRegister(n_p+1,name='cr')\n",
    "\n",
    "circ = QuantumCircuit(operand1, operand2, anc, cr)\n",
    "\n",
    "for i in range(len(KEY)):\n",
    "    if KEY[i]=='1':\n",
    "        circ.x(operand1[len(KEY)-1-i])\n",
    "\n",
    "for i in range(len(PLAIN_TEXT)):\n",
    "    if PLAIN_TEXT[i]=='1':\n",
    "        circ.x(operand2[len(PLAIN_TEXT)-1-i])\n",
    "\n",
    "# Note 1: CDKMRippleCarryAdder expects the qubits to have the order: carry in - 1st operand - 2nd operand - carry out. (changes will be on 2nd operator)\n",
    "# Note 2: Python uses '+' operator to combine lists:\n",
    "\n",
    "circ.append(adder, [anc[0]] + operand1[:] + operand2[:] + [anc[1]])\n",
    "circ.measure(operand2[:] + [anc[1]], cr) #changes will be on operand 2 in other word (here) plain_text is changed \n",
    "\n",
    "# to change the key : take care of ordering the 1st operand and 2nd operand\n",
    "# circ.append(adder, [anc[0]] + operand2[:] + operand1[:] + [anc[1]])\n",
    "# circ.measure(operand1[:] + [anc[1]], cr) \n",
    "\n",
    "# print(circ)\n",
    "# circ.draw(\"mpl\")\n",
    "\n",
    "tr_circ = transpile(circ, basis_gates = ['u3', 'cx'], optimization_level = 3)\n",
    "result = backend.run(tr_circ).result()\n",
    "counts = result.get_counts()\n",
    "\n",
    "# print(\"encrypted text in binary:\",list(counts.keys())[0])\n",
    "encrypted_text = list(counts.keys())[0][1:]\n",
    "print(encrypted_text)\n",
    "chunks = [encrypted_text[i:i+8] for i in range(0, len(encrypted_text), 8)]\n",
    "\n",
    "# Convert each chunk to integer and then to character\n",
    "# resulting_char = ''.join([chr(int(chunk, 2)) for chunk in chunks])\n",
    "\n",
    "# print(\"encrypted char\",resulting_char)\n",
    "# ENCRYPTED_TEXT+=resulting_char\n",
    "    \n",
    "# print(\"ENCRYPTED_TEXT :\",ENCRYPTED_TEXT)\n"
   ]
  },
  {
   "cell_type": "code",
   "execution_count": 13,
   "metadata": {},
   "outputs": [],
   "source": [
    "plain_text=PLAIN_TEXT"
   ]
  },
  {
   "cell_type": "code",
   "execution_count": 14,
   "metadata": {},
   "outputs": [],
   "source": [
    "cipher_text=encrypted_text\n"
   ]
  },
  {
   "cell_type": "code",
   "execution_count": 15,
   "metadata": {},
   "outputs": [],
   "source": [
    "import numpy as np\n",
    "\n",
    "# Importing standard Qiskit libraries\n",
    "from qiskit import QuantumCircuit, transpile, QuantumRegister, ClassicalRegister#, BasicAer, execute, IBMQ\n",
    "from qiskit.compiler import assemble\n",
    "# from qiskit.tools.jupyter import *\n",
    "from qiskit.visualization import *\n",
    "# from ibm_quantum_widgets import CircuitComposer\n",
    "# from qiskit.providers.aer import QasmSimulator, AerSimulator\n",
    "import numpy as np\n",
    "# from numpy import pi\n",
    "\n",
    "# Loading your IBM Quantum account(s)\n",
    "# provider = IBMQ.load_account()"
   ]
  },
  {
   "cell_type": "code",
   "execution_count": 16,
   "metadata": {},
   "outputs": [],
   "source": [
    "def load_input(qc, r_key, input_binary, n):\n",
    "    for i in range(n):\n",
    "        if (input_binary[i] == \"1\"):\n",
    "            qc.x(r_key[i])"
   ]
  },
  {
   "cell_type": "code",
   "execution_count": 17,
   "metadata": {},
   "outputs": [],
   "source": [
    "def load_key(qc, r_key, n):\n",
    "    for i in range(n):\n",
    "        qc.h(r_key[i])"
   ]
  },
  {
   "cell_type": "code",
   "execution_count": 18,
   "metadata": {},
   "outputs": [],
   "source": [
    "# def cipher(qc, r_key, r_text, n):\n",
    "def cipher(qc, adder, anc, operand1, operand2):\n",
    "    qc.append(adder, [anc[0]] + operand1[:] + operand2[:] + [anc[1]])\n",
    "    # qc.measure(operand2[:] + [anc[1]], cr)\n",
    "    # tr_circ = transpile(qc, basis_gates = ['u3', 'cx'], optimization_level = 3)\n",
    "    # result = backend.run(tr_circ).result()\n",
    "    # counts = result.get_counts()\n",
    "    # for i in range(n):\n",
    "    #     qc.cx(r_key[i], r_text[i])"
   ]
  },
  {
   "cell_type": "code",
   "execution_count": 19,
   "metadata": {},
   "outputs": [],
   "source": [
    "def my_oracle(qc, r_key, r_ancilla, r_cipher, r_text, r_output, n):\n",
    "    #Compute cipher text possibilities by XORing\n",
    "    cipher(qc,adder, r_ancilla, r_key, r_text)\n",
    "    \n",
    "    #Checking whether the generated cipher text is equal to the given cipher text\n",
    "    for i in range(n):\n",
    "        qc.cx(r_cipher[i], r_ancilla[i])\n",
    "        qc.cx(r_text[i], r_ancilla[i])\n",
    "        qc.x(r_ancilla[i])\n",
    "        \n",
    "    #Set 'output' bit if the cipher text is matched\n",
    "    qc.mcx(r_ancilla, r_output)\n",
    "    \n",
    "    qc.barrier()\n",
    "    \n",
    "    #Uncompute cipher to reset ancilla & plain text qubits\n",
    "    #Reset ancilla qubit\n",
    "    for i in range(n):\n",
    "        qc.x(r_ancilla[i])\n",
    "        qc.cx(r_cipher[i], r_ancilla[i])\n",
    "        qc.cx(r_text[i], r_ancilla[i])\n",
    "    qc.barrier()\n",
    "    #Reset plain text by inverse cipher process\n",
    "    cipher(qc,adder, r_ancilla, r_key, r_text)\n",
    "    \n",
    "    qc.barrier()\n",
    "        "
   ]
  },
  {
   "cell_type": "code",
   "execution_count": 20,
   "metadata": {},
   "outputs": [],
   "source": [
    "#The diffuser function is available in Qiskit\n",
    "def diffuser(nqubits):\n",
    "    qc = QuantumCircuit(nqubits)\n",
    "    #Apply transformation |s> -> |00...0> (H gates)\n",
    "    for qubit in range(nqubits):\n",
    "        qc.h(qubit)\n",
    "    #Apply transformation |00...0> -> |11...1> (X gates)\n",
    "    for qubit in range(nqubits):\n",
    "        qc.x(qubit)    \n",
    "    #Do multi-controlled Z gate\n",
    "    qc.h(nqubits - 1)\n",
    "    qc.mcx(list(range(nqubits - 1)), nqubits - 1) #multi-controlled Toffoli\n",
    "    qc.h(nqubits - 1)\n",
    "    #Apply transformation |11...1> -> |00...0> (X gates)\n",
    "    for qubit in range(nqubits):\n",
    "        qc.x(qubit)\n",
    "    #Apply transformation |00...0> -> |s> (H gates)\n",
    "    for qubit in range(nqubits):\n",
    "        qc.h(qubit)\n",
    "    #We will return the diffuser as a gate\n",
    "    U_s = qc.to_gate()\n",
    "    U_s.name = \"U$_s$\"\n",
    "    return U_s\n",
    "    "
   ]
  },
  {
   "cell_type": "code",
   "execution_count": 21,
   "metadata": {},
   "outputs": [
    {
     "name": "stdout",
     "output_type": "stream",
     "text": [
      "11000\n",
      "11101\n"
     ]
    },
    {
     "data": {
      "text/plain": [
       "<qiskit.circuit.instructionset.InstructionSet at 0x1a6db7ced70>"
      ]
     },
     "execution_count": 21,
     "metadata": {},
     "output_type": "execute_result"
    }
   ],
   "source": [
    "n = 5\n",
    "r_text = QuantumRegister(n, 't')\n",
    "r_key = QuantumRegister(n, 'k')\n",
    "r_output = QuantumRegister(1, name = 'o')\n",
    "r_cipher = QuantumRegister(n, 'c')\n",
    "r_ancilla = QuantumRegister(n+1, 'a')\n",
    "# r_ancilla = QuantumRegister(2, 'a')\n",
    "\n",
    "r_class = ClassicalRegister(n)\n",
    "\n",
    "qc = QuantumCircuit(r_text, r_key, r_cipher, r_ancilla, r_output, r_class)\n",
    "\n",
    "adder = CDKMRippleCarryAdder(n, kind='full', name='Full Adder')\n",
    "\n",
    "#loading plain text\n",
    "# plain_text = '0101'\n",
    "load_input(qc, r_text, plain_text, n)\n",
    "print(plain_text)\n",
    "#Preparing key in a superposition state\n",
    "load_key(qc, r_key, n)\n",
    "\n",
    "#loading known cipher text\n",
    "# cipher_text = '1001'\n",
    "load_input(qc, r_cipher, cipher_text, n)\n",
    "print(cipher_text)\n",
    "\n",
    "# #Preparing output qubit\n",
    "# qc.x(r_output)\n",
    "# qc.h(r_output)\n",
    "# qc.barrier()\n",
    "\n",
    "# #First Iteration\n",
    "# my_oracle(qc, r_key, r_ancilla, r_cipher, r_text, r_output, n)\n",
    "# qc.barrier()\n",
    "# qc.append(diffuser(n), r_key)\n",
    "# qc.barrier()\n",
    "\n",
    "# #Second Iteration\n",
    "# my_oracle(qc, r_key, r_ancilla, r_cipher, r_text, r_output, n)\n",
    "# qc.barrier()\n",
    "# qc.append(diffuser(n), r_key)\n",
    "# qc.barrier()\n",
    "\n",
    "# qc.measure(r_key, r_class)\n",
    "# #qc.draw()\n",
    "\n",
    "from math import pi, sqrt\n",
    "num_iterations = int(pi/4 * 2**(n/2.0)+1)\n",
    "\n",
    "# Perform the remaining iterations\n",
    "for i in range(num_iterations):\n",
    "    my_oracle(qc, r_key, r_ancilla, r_cipher, r_text, r_output, n)\n",
    "    qc.barrier()\n",
    "    qc.append(diffuser(n), r_key)\n",
    "    qc.barrier()\n",
    "    \n",
    "qc.measure(r_key, r_class)\n",
    "# qc.draw()"
   ]
  },
  {
   "cell_type": "code",
   "execution_count": 22,
   "metadata": {},
   "outputs": [
    {
     "name": "stdout",
     "output_type": "stream",
     "text": [
      "{'00010': 35, '01000': 23, '11000': 29, '10100': 28, '01010': 33, '10110': 32, '11001': 29, '00001': 32, '10111': 42, '01100': 32, '10011': 44, '00100': 23, '01001': 31, '00101': 37, '00111': 37, '11011': 33, '00011': 28, '00110': 22, '10001': 38, '11010': 29, '11101': 45, '11100': 35, '01111': 22, '01110': 23, '01101': 40, '10000': 38, '01011': 39, '11110': 30, '11111': 39, '10101': 28, '10010': 22, '00000': 26}\n",
      "Key is : 10111 with probability = 0.0439453125\n"
     ]
    }
   ],
   "source": [
    "# from qiskit_aer import AerSimulator\n",
    "# aer_sim = AerSimulator()\n",
    "# pm = generate_preset_pass_manager(backend=aer_sim, optimization_level=1)\n",
    "# sim = pm.run(qc)\n",
    "\n",
    "# sim = AerSimulator(method = 'matrix_product_state')\n",
    "# sim = Aer.get_backend('qasm_simulator')\n",
    "\n",
    "from qiskit.providers.basic_provider import BasicSimulator\n",
    "sim = BasicSimulator()\n",
    "\n",
    "\n",
    "shots = 1024\n",
    "#Run and get the counts, using the matrix_product_state method\n",
    "tcirc = transpile(qc, sim)\n",
    "result = sim.run(tcirc, shots=1024).result()\n",
    "print (result.get_counts())\n",
    "counts = result.get_counts() #counts = result.get_counts(0)\n",
    "b, c = max(counts.items(), key=lambda x: x[1])\n",
    "print(\"Key is :\", b[::-1], \"with probability =\", c/shots)"
   ]
  }
 ],
 "metadata": {
  "kernelspec": {
   "display_name": ".env",
   "language": "python",
   "name": "python3"
  },
  "language_info": {
   "codemirror_mode": {
    "name": "ipython",
    "version": 3
   },
   "file_extension": ".py",
   "mimetype": "text/x-python",
   "name": "python",
   "nbconvert_exporter": "python",
   "pygments_lexer": "ipython3",
   "version": "3.11.3"
  }
 },
 "nbformat": 4,
 "nbformat_minor": 2
}
